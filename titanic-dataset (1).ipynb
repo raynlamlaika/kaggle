{
 "cells": [
  {
   "cell_type": "code",
   "execution_count": 1,
   "id": "6acdac2a",
   "metadata": {
    "_cell_guid": "b1076dfc-b9ad-4769-8c92-a6c4dae69d19",
    "_uuid": "8f2839f25d086af736a60e9eeb907d3b93b6e0e5",
    "execution": {
     "iopub.execute_input": "2024-08-28T15:58:48.150167Z",
     "iopub.status.busy": "2024-08-28T15:58:48.149779Z",
     "iopub.status.idle": "2024-08-28T15:58:48.523586Z",
     "shell.execute_reply": "2024-08-28T15:58:48.522252Z"
    },
    "papermill": {
     "duration": 0.385744,
     "end_time": "2024-08-28T15:58:48.525749",
     "exception": false,
     "start_time": "2024-08-28T15:58:48.140005",
     "status": "completed"
    },
    "tags": []
   },
   "outputs": [
    {
     "name": "stdout",
     "output_type": "stream",
     "text": [
      "/kaggle/input/titanic/train.csv\n",
      "/kaggle/input/titanic/test.csv\n",
      "/kaggle/input/titanic/gender_submission.csv\n"
     ]
    }
   ],
   "source": [
    "# This Python 3 environment comes with many helpful analytics libraries installed\n",
    "# It is defined by the kaggle/python Docker image: https://github.com/kaggle/docker-python\n",
    "# For example, here's several helpful packages to load\n",
    "\n",
    "import numpy as np # linear algebra\n",
    "import pandas as pd # data processing, CSV file I/O (e.g. pd.read_csv)\n",
    "\n",
    "# Input data files are available in the read-only \"../input/\" directory\n",
    "# For example, running this (by clicking run or pressing Shift+Enter) will list all files under the input directory\n",
    "\n",
    "import os\n",
    "for dirname, _, filenames in os.walk('/kaggle/input'):\n",
    "    for filename in filenames:\n",
    "        print(os.path.join(dirname, filename))\n",
    "\n",
    "# You can write up to 20GB to the current directory (/kaggle/working/) that gets preserved as output when you create a version using \"Save & Run All\" \n",
    "# You can also write temporary files to /kaggle/temp/, but they won't be saved outside of the current session"
   ]
  },
  {
   "cell_type": "code",
   "execution_count": 2,
   "id": "32980da3",
   "metadata": {
    "execution": {
     "iopub.execute_input": "2024-08-28T15:58:48.543310Z",
     "iopub.status.busy": "2024-08-28T15:58:48.542349Z",
     "iopub.status.idle": "2024-08-28T15:58:48.578754Z",
     "shell.execute_reply": "2024-08-28T15:58:48.577636Z"
    },
    "papermill": {
     "duration": 0.047646,
     "end_time": "2024-08-28T15:58:48.581068",
     "exception": false,
     "start_time": "2024-08-28T15:58:48.533422",
     "status": "completed"
    },
    "tags": []
   },
   "outputs": [],
   "source": [
    "import pandas as pd\n",
    "train = pd.read_csv('/kaggle/input/titanic/train.csv')\n",
    "train = pd.DataFrame(train)\n",
    "test = pd.read_csv('/kaggle/input/titanic/test.csv')\n",
    "sub = pd.read_csv('/kaggle/input/titanic/gender_submission.csv')"
   ]
  },
  {
   "cell_type": "code",
   "execution_count": 3,
   "id": "1f819093",
   "metadata": {
    "execution": {
     "iopub.execute_input": "2024-08-28T15:58:48.597461Z",
     "iopub.status.busy": "2024-08-28T15:58:48.596642Z",
     "iopub.status.idle": "2024-08-28T15:58:48.608278Z",
     "shell.execute_reply": "2024-08-28T15:58:48.607345Z"
    },
    "papermill": {
     "duration": 0.021685,
     "end_time": "2024-08-28T15:58:48.610224",
     "exception": false,
     "start_time": "2024-08-28T15:58:48.588539",
     "status": "completed"
    },
    "tags": []
   },
   "outputs": [],
   "source": [
    "mean=test['Age'].mean()\n",
    "test['Age'] = test['Age'].fillna(mean)"
   ]
  },
  {
   "cell_type": "code",
   "execution_count": 4,
   "id": "44396675",
   "metadata": {
    "execution": {
     "iopub.execute_input": "2024-08-28T15:58:48.626162Z",
     "iopub.status.busy": "2024-08-28T15:58:48.625424Z",
     "iopub.status.idle": "2024-08-28T15:58:48.635968Z",
     "shell.execute_reply": "2024-08-28T15:58:48.635041Z"
    },
    "papermill": {
     "duration": 0.020706,
     "end_time": "2024-08-28T15:58:48.638149",
     "exception": false,
     "start_time": "2024-08-28T15:58:48.617443",
     "status": "completed"
    },
    "tags": []
   },
   "outputs": [],
   "source": [
    "mapping ={'male':1,'female':0} #flip the Sex column into numirical values (1 = male, 0 = female)\n",
    "test['SexI'] = test['Sex'].map(mapping)\n",
    "\n",
    "mapp={'S':1,'C':2,'Q':2}# C - Cherbourg, France ,,,Q - Queenstown (now known as Cobh), Ireland ,,,, S - Southampton, England\n",
    "test['EmbarkedI'] = test['Embarked'].map(mapp)"
   ]
  },
  {
   "cell_type": "code",
   "execution_count": 5,
   "id": "c0146a4f",
   "metadata": {
    "execution": {
     "iopub.execute_input": "2024-08-28T15:58:48.654105Z",
     "iopub.status.busy": "2024-08-28T15:58:48.653524Z",
     "iopub.status.idle": "2024-08-28T15:58:48.672275Z",
     "shell.execute_reply": "2024-08-28T15:58:48.671280Z"
    },
    "papermill": {
     "duration": 0.029113,
     "end_time": "2024-08-28T15:58:48.674492",
     "exception": false,
     "start_time": "2024-08-28T15:58:48.645379",
     "status": "completed"
    },
    "tags": []
   },
   "outputs": [
    {
     "data": {
      "text/html": [
       "<div>\n",
       "<style scoped>\n",
       "    .dataframe tbody tr th:only-of-type {\n",
       "        vertical-align: middle;\n",
       "    }\n",
       "\n",
       "    .dataframe tbody tr th {\n",
       "        vertical-align: top;\n",
       "    }\n",
       "\n",
       "    .dataframe thead th {\n",
       "        text-align: right;\n",
       "    }\n",
       "</style>\n",
       "<table border=\"1\" class=\"dataframe\">\n",
       "  <thead>\n",
       "    <tr style=\"text-align: right;\">\n",
       "      <th></th>\n",
       "      <th>PassengerId</th>\n",
       "      <th>Survived</th>\n",
       "      <th>Pclass</th>\n",
       "      <th>Name</th>\n",
       "      <th>Sex</th>\n",
       "      <th>Age</th>\n",
       "      <th>SibSp</th>\n",
       "      <th>Parch</th>\n",
       "      <th>Ticket</th>\n",
       "      <th>Fare</th>\n",
       "      <th>Cabin</th>\n",
       "      <th>Embarked</th>\n",
       "    </tr>\n",
       "  </thead>\n",
       "  <tbody>\n",
       "    <tr>\n",
       "      <th>0</th>\n",
       "      <td>1</td>\n",
       "      <td>0</td>\n",
       "      <td>3</td>\n",
       "      <td>Braund, Mr. Owen Harris</td>\n",
       "      <td>male</td>\n",
       "      <td>22.0</td>\n",
       "      <td>1</td>\n",
       "      <td>0</td>\n",
       "      <td>A/5 21171</td>\n",
       "      <td>7.2500</td>\n",
       "      <td>NaN</td>\n",
       "      <td>S</td>\n",
       "    </tr>\n",
       "    <tr>\n",
       "      <th>1</th>\n",
       "      <td>2</td>\n",
       "      <td>1</td>\n",
       "      <td>1</td>\n",
       "      <td>Cumings, Mrs. John Bradley (Florence Briggs Th...</td>\n",
       "      <td>female</td>\n",
       "      <td>38.0</td>\n",
       "      <td>1</td>\n",
       "      <td>0</td>\n",
       "      <td>PC 17599</td>\n",
       "      <td>71.2833</td>\n",
       "      <td>C85</td>\n",
       "      <td>C</td>\n",
       "    </tr>\n",
       "    <tr>\n",
       "      <th>2</th>\n",
       "      <td>3</td>\n",
       "      <td>1</td>\n",
       "      <td>3</td>\n",
       "      <td>Heikkinen, Miss. Laina</td>\n",
       "      <td>female</td>\n",
       "      <td>26.0</td>\n",
       "      <td>0</td>\n",
       "      <td>0</td>\n",
       "      <td>STON/O2. 3101282</td>\n",
       "      <td>7.9250</td>\n",
       "      <td>NaN</td>\n",
       "      <td>S</td>\n",
       "    </tr>\n",
       "  </tbody>\n",
       "</table>\n",
       "</div>"
      ],
      "text/plain": [
       "   PassengerId  Survived  Pclass  \\\n",
       "0            1         0       3   \n",
       "1            2         1       1   \n",
       "2            3         1       3   \n",
       "\n",
       "                                                Name     Sex   Age  SibSp  \\\n",
       "0                            Braund, Mr. Owen Harris    male  22.0      1   \n",
       "1  Cumings, Mrs. John Bradley (Florence Briggs Th...  female  38.0      1   \n",
       "2                             Heikkinen, Miss. Laina  female  26.0      0   \n",
       "\n",
       "   Parch            Ticket     Fare Cabin Embarked  \n",
       "0      0         A/5 21171   7.2500   NaN        S  \n",
       "1      0          PC 17599  71.2833   C85        C  \n",
       "2      0  STON/O2. 3101282   7.9250   NaN        S  "
      ]
     },
     "execution_count": 5,
     "metadata": {},
     "output_type": "execute_result"
    }
   ],
   "source": [
    "train.head(3)"
   ]
  },
  {
   "cell_type": "code",
   "execution_count": 6,
   "id": "7324ba89",
   "metadata": {
    "execution": {
     "iopub.execute_input": "2024-08-28T15:58:48.691453Z",
     "iopub.status.busy": "2024-08-28T15:58:48.690652Z",
     "iopub.status.idle": "2024-08-28T15:58:48.699649Z",
     "shell.execute_reply": "2024-08-28T15:58:48.698739Z"
    },
    "papermill": {
     "duration": 0.019374,
     "end_time": "2024-08-28T15:58:48.701647",
     "exception": false,
     "start_time": "2024-08-28T15:58:48.682273",
     "status": "completed"
    },
    "tags": []
   },
   "outputs": [
    {
     "data": {
      "text/plain": [
       "PassengerId      0\n",
       "Survived         0\n",
       "Pclass           0\n",
       "Name             0\n",
       "Sex              0\n",
       "Age            177\n",
       "SibSp            0\n",
       "Parch            0\n",
       "Ticket           0\n",
       "Fare             0\n",
       "Cabin          687\n",
       "Embarked         2\n",
       "dtype: int64"
      ]
     },
     "execution_count": 6,
     "metadata": {},
     "output_type": "execute_result"
    }
   ],
   "source": [
    "train.isna().sum()"
   ]
  },
  {
   "cell_type": "code",
   "execution_count": 7,
   "id": "8bbf59b9",
   "metadata": {
    "execution": {
     "iopub.execute_input": "2024-08-28T15:58:48.718362Z",
     "iopub.status.busy": "2024-08-28T15:58:48.717697Z",
     "iopub.status.idle": "2024-08-28T15:58:48.723836Z",
     "shell.execute_reply": "2024-08-28T15:58:48.722886Z"
    },
    "papermill": {
     "duration": 0.016796,
     "end_time": "2024-08-28T15:58:48.726074",
     "exception": false,
     "start_time": "2024-08-28T15:58:48.709278",
     "status": "completed"
    },
    "tags": []
   },
   "outputs": [
    {
     "name": "stdout",
     "output_type": "stream",
     "text": [
      "percentage of missing values in Cabin is: 77.10437710437711\n",
      "percentage of missing values in Age is: 19.865319865319865\n"
     ]
    }
   ],
   "source": [
    "print('percentage of missing values in Cabin is:',train['Cabin'].isna().mean()*100)\n",
    "print('percentage of missing values in Age is:',train['Age'].isna().mean()*100)"
   ]
  },
  {
   "cell_type": "code",
   "execution_count": 8,
   "id": "1519be42",
   "metadata": {
    "execution": {
     "iopub.execute_input": "2024-08-28T15:58:48.742907Z",
     "iopub.status.busy": "2024-08-28T15:58:48.742347Z",
     "iopub.status.idle": "2024-08-28T15:58:48.748282Z",
     "shell.execute_reply": "2024-08-28T15:58:48.747404Z"
    },
    "papermill": {
     "duration": 0.016454,
     "end_time": "2024-08-28T15:58:48.750254",
     "exception": false,
     "start_time": "2024-08-28T15:58:48.733800",
     "status": "completed"
    },
    "tags": []
   },
   "outputs": [],
   "source": [
    "Sdata = train['Sex']\n",
    "mapping ={'male':1,'female':0} #flip the Sex column into numirical values (1 = male, 0 = female)\n",
    "train['SexI'] = train['Sex'].map(mapping)"
   ]
  },
  {
   "cell_type": "markdown",
   "id": "59360efa",
   "metadata": {
    "papermill": {
     "duration": 0.007367,
     "end_time": "2024-08-28T15:58:48.765125",
     "exception": false,
     "start_time": "2024-08-28T15:58:48.757758",
     "status": "completed"
    },
    "tags": []
   },
   "source": [
    "**missing values in age take them to mean of age specially the percentage of missing values is not too big (20%)**"
   ]
  },
  {
   "cell_type": "code",
   "execution_count": 9,
   "id": "ce164eff",
   "metadata": {
    "execution": {
     "iopub.execute_input": "2024-08-28T15:58:48.781626Z",
     "iopub.status.busy": "2024-08-28T15:58:48.780989Z",
     "iopub.status.idle": "2024-08-28T15:58:48.786590Z",
     "shell.execute_reply": "2024-08-28T15:58:48.785805Z"
    },
    "papermill": {
     "duration": 0.016009,
     "end_time": "2024-08-28T15:58:48.788527",
     "exception": false,
     "start_time": "2024-08-28T15:58:48.772518",
     "status": "completed"
    },
    "tags": []
   },
   "outputs": [],
   "source": [
    "mean=train['Age'].mean()\n",
    "train['Age'] = train['Age'].fillna(mean)"
   ]
  },
  {
   "cell_type": "code",
   "execution_count": 10,
   "id": "813d0343",
   "metadata": {
    "execution": {
     "iopub.execute_input": "2024-08-28T15:58:48.805235Z",
     "iopub.status.busy": "2024-08-28T15:58:48.804691Z",
     "iopub.status.idle": "2024-08-28T15:58:48.812538Z",
     "shell.execute_reply": "2024-08-28T15:58:48.811691Z"
    },
    "papermill": {
     "duration": 0.018368,
     "end_time": "2024-08-28T15:58:48.814459",
     "exception": false,
     "start_time": "2024-08-28T15:58:48.796091",
     "status": "completed"
    },
    "tags": []
   },
   "outputs": [],
   "source": [
    "rep=train['Embarked'].mode()[0]\n",
    "train['Embarked'] = train['Embarked'].fillna(rep)"
   ]
  },
  {
   "cell_type": "code",
   "execution_count": 11,
   "id": "1e5c0216",
   "metadata": {
    "execution": {
     "iopub.execute_input": "2024-08-28T15:58:48.831407Z",
     "iopub.status.busy": "2024-08-28T15:58:48.831063Z",
     "iopub.status.idle": "2024-08-28T15:58:48.840305Z",
     "shell.execute_reply": "2024-08-28T15:58:48.839236Z"
    },
    "papermill": {
     "duration": 0.020259,
     "end_time": "2024-08-28T15:58:48.842295",
     "exception": false,
     "start_time": "2024-08-28T15:58:48.822036",
     "status": "completed"
    },
    "tags": []
   },
   "outputs": [
    {
     "name": "stdout",
     "output_type": "stream",
     "text": [
      "0\n",
      "0\n",
      "PassengerId      0\n",
      "Survived         0\n",
      "Pclass           0\n",
      "Name             0\n",
      "Sex              0\n",
      "Age              0\n",
      "SibSp            0\n",
      "Parch            0\n",
      "Ticket           0\n",
      "Fare             0\n",
      "Cabin          687\n",
      "Embarked         0\n",
      "SexI             0\n",
      "dtype: int64\n"
     ]
    }
   ],
   "source": [
    "print(train['Embarked'].isnull().sum())  # Check missing values before filling\n",
    "train['Embarked'] = train['Embarked'].fillna(rep)\n",
    "print(train['Embarked'].isnull().sum())  # Check missing values after filling\n",
    "print(train.isna().sum())"
   ]
  },
  {
   "cell_type": "code",
   "execution_count": 12,
   "id": "0da34b91",
   "metadata": {
    "execution": {
     "iopub.execute_input": "2024-08-28T15:58:48.858724Z",
     "iopub.status.busy": "2024-08-28T15:58:48.858417Z",
     "iopub.status.idle": "2024-08-28T15:58:48.863335Z",
     "shell.execute_reply": "2024-08-28T15:58:48.862525Z"
    },
    "papermill": {
     "duration": 0.015342,
     "end_time": "2024-08-28T15:58:48.865313",
     "exception": false,
     "start_time": "2024-08-28T15:58:48.849971",
     "status": "completed"
    },
    "tags": []
   },
   "outputs": [],
   "source": [
    "mean=train['Age'].mean()\n",
    "train['Age'] = train['Age'].fillna(mean)"
   ]
  },
  {
   "cell_type": "code",
   "execution_count": 13,
   "id": "fe069d76",
   "metadata": {
    "execution": {
     "iopub.execute_input": "2024-08-28T15:58:48.882212Z",
     "iopub.status.busy": "2024-08-28T15:58:48.881849Z",
     "iopub.status.idle": "2024-08-28T15:58:48.887139Z",
     "shell.execute_reply": "2024-08-28T15:58:48.886212Z"
    },
    "papermill": {
     "duration": 0.015806,
     "end_time": "2024-08-28T15:58:48.889121",
     "exception": false,
     "start_time": "2024-08-28T15:58:48.873315",
     "status": "completed"
    },
    "tags": []
   },
   "outputs": [],
   "source": [
    "rep=train['Embarked'].mode()[0]\n",
    "train['Embarked'] = train['Embarked'].fillna(rep)"
   ]
  },
  {
   "cell_type": "code",
   "execution_count": 14,
   "id": "cdc392fa",
   "metadata": {
    "execution": {
     "iopub.execute_input": "2024-08-28T15:58:48.906061Z",
     "iopub.status.busy": "2024-08-28T15:58:48.905323Z",
     "iopub.status.idle": "2024-08-28T15:58:48.913382Z",
     "shell.execute_reply": "2024-08-28T15:58:48.912453Z"
    },
    "papermill": {
     "duration": 0.018945,
     "end_time": "2024-08-28T15:58:48.915593",
     "exception": false,
     "start_time": "2024-08-28T15:58:48.896648",
     "status": "completed"
    },
    "tags": []
   },
   "outputs": [
    {
     "name": "stdout",
     "output_type": "stream",
     "text": [
      "0\n",
      "0\n",
      "PassengerId      0\n",
      "Survived         0\n",
      "Pclass           0\n",
      "Name             0\n",
      "Sex              0\n",
      "Age              0\n",
      "SibSp            0\n",
      "Parch            0\n",
      "Ticket           0\n",
      "Fare             0\n",
      "Cabin          687\n",
      "Embarked         0\n",
      "SexI             0\n",
      "dtype: int64\n"
     ]
    }
   ],
   "source": [
    "print(train['Embarked'].isnull().sum())  # Check missing values before filling\n",
    "train['Embarked'] = train['Embarked'].fillna(rep)\n",
    "print(train['Embarked'].isnull().sum())  # Check missing values after filling\n",
    "print(train.isna().sum())"
   ]
  },
  {
   "cell_type": "code",
   "execution_count": 15,
   "id": "2e5385e1",
   "metadata": {
    "execution": {
     "iopub.execute_input": "2024-08-28T15:58:48.932791Z",
     "iopub.status.busy": "2024-08-28T15:58:48.932030Z",
     "iopub.status.idle": "2024-08-28T15:58:48.941596Z",
     "shell.execute_reply": "2024-08-28T15:58:48.940695Z"
    },
    "papermill": {
     "duration": 0.020477,
     "end_time": "2024-08-28T15:58:48.943812",
     "exception": false,
     "start_time": "2024-08-28T15:58:48.923335",
     "status": "completed"
    },
    "tags": []
   },
   "outputs": [
    {
     "name": "stdout",
     "output_type": "stream",
     "text": [
      "Embarked\n",
      "S    646\n",
      "C    168\n",
      "Q     77\n",
      "Name: count, dtype: int64\n"
     ]
    }
   ],
   "source": [
    "print(train['Embarked'].value_counts())\n",
    "mapp={'S':1,'C':2,'Q':2}# C - Cherbourg, France ,,,Q - Queenstown (now known as Cobh), Ireland ,,,, S - Southampton, England\n",
    "train['EmbarkedI'] = train['Embarked'].map(mapp)"
   ]
  },
  {
   "cell_type": "code",
   "execution_count": 16,
   "id": "0e007e55",
   "metadata": {
    "execution": {
     "iopub.execute_input": "2024-08-28T15:58:48.961878Z",
     "iopub.status.busy": "2024-08-28T15:58:48.961205Z",
     "iopub.status.idle": "2024-08-28T15:58:48.968722Z",
     "shell.execute_reply": "2024-08-28T15:58:48.967779Z"
    },
    "papermill": {
     "duration": 0.018709,
     "end_time": "2024-08-28T15:58:48.970790",
     "exception": false,
     "start_time": "2024-08-28T15:58:48.952081",
     "status": "completed"
    },
    "tags": []
   },
   "outputs": [],
   "source": [
    "train = train.drop(['Name','Sex','Ticket','Cabin','Embarked'],axis=1)\n",
    "test =  test.drop(['Name','Sex','Ticket','Cabin','Embarked'],axis=1)"
   ]
  },
  {
   "cell_type": "markdown",
   "id": "95b60853",
   "metadata": {
    "papermill": {
     "duration": 0.007753,
     "end_time": "2024-08-28T15:58:48.986390",
     "exception": false,
     "start_time": "2024-08-28T15:58:48.978637",
     "status": "completed"
    },
    "tags": []
   },
   "source": [
    "**SO FOR NOW WE HAVE DONE MMANIPULATE THE COLUMNS AND REPLACE TEXT VALUES WITH NUMERICAL VALUE AND ADD THE NULL VALUS ...**"
   ]
  },
  {
   "cell_type": "markdown",
   "id": "4f8b37be",
   "metadata": {
    "papermill": {
     "duration": 0.007533,
     "end_time": "2024-08-28T15:58:49.001874",
     "exception": false,
     "start_time": "2024-08-28T15:58:48.994341",
     "status": "completed"
    },
    "tags": []
   },
   "source": [
    "****let's now Exploratory Data Analysis****"
   ]
  },
  {
   "cell_type": "code",
   "execution_count": 17,
   "id": "48764b16",
   "metadata": {
    "execution": {
     "iopub.execute_input": "2024-08-28T15:58:49.019444Z",
     "iopub.status.busy": "2024-08-28T15:58:49.018557Z",
     "iopub.status.idle": "2024-08-28T15:58:49.031179Z",
     "shell.execute_reply": "2024-08-28T15:58:49.030212Z"
    },
    "papermill": {
     "duration": 0.023616,
     "end_time": "2024-08-28T15:58:49.033252",
     "exception": false,
     "start_time": "2024-08-28T15:58:49.009636",
     "status": "completed"
    },
    "tags": []
   },
   "outputs": [
    {
     "data": {
      "text/html": [
       "<div>\n",
       "<style scoped>\n",
       "    .dataframe tbody tr th:only-of-type {\n",
       "        vertical-align: middle;\n",
       "    }\n",
       "\n",
       "    .dataframe tbody tr th {\n",
       "        vertical-align: top;\n",
       "    }\n",
       "\n",
       "    .dataframe thead th {\n",
       "        text-align: right;\n",
       "    }\n",
       "</style>\n",
       "<table border=\"1\" class=\"dataframe\">\n",
       "  <thead>\n",
       "    <tr style=\"text-align: right;\">\n",
       "      <th></th>\n",
       "      <th>PassengerId</th>\n",
       "      <th>Survived</th>\n",
       "      <th>Pclass</th>\n",
       "      <th>Age</th>\n",
       "      <th>SibSp</th>\n",
       "      <th>Parch</th>\n",
       "      <th>Fare</th>\n",
       "      <th>SexI</th>\n",
       "      <th>EmbarkedI</th>\n",
       "    </tr>\n",
       "  </thead>\n",
       "  <tbody>\n",
       "    <tr>\n",
       "      <th>0</th>\n",
       "      <td>1</td>\n",
       "      <td>0</td>\n",
       "      <td>3</td>\n",
       "      <td>22.0</td>\n",
       "      <td>1</td>\n",
       "      <td>0</td>\n",
       "      <td>7.2500</td>\n",
       "      <td>1</td>\n",
       "      <td>1</td>\n",
       "    </tr>\n",
       "    <tr>\n",
       "      <th>1</th>\n",
       "      <td>2</td>\n",
       "      <td>1</td>\n",
       "      <td>1</td>\n",
       "      <td>38.0</td>\n",
       "      <td>1</td>\n",
       "      <td>0</td>\n",
       "      <td>71.2833</td>\n",
       "      <td>0</td>\n",
       "      <td>2</td>\n",
       "    </tr>\n",
       "    <tr>\n",
       "      <th>2</th>\n",
       "      <td>3</td>\n",
       "      <td>1</td>\n",
       "      <td>3</td>\n",
       "      <td>26.0</td>\n",
       "      <td>0</td>\n",
       "      <td>0</td>\n",
       "      <td>7.9250</td>\n",
       "      <td>0</td>\n",
       "      <td>1</td>\n",
       "    </tr>\n",
       "    <tr>\n",
       "      <th>3</th>\n",
       "      <td>4</td>\n",
       "      <td>1</td>\n",
       "      <td>1</td>\n",
       "      <td>35.0</td>\n",
       "      <td>1</td>\n",
       "      <td>0</td>\n",
       "      <td>53.1000</td>\n",
       "      <td>0</td>\n",
       "      <td>1</td>\n",
       "    </tr>\n",
       "    <tr>\n",
       "      <th>4</th>\n",
       "      <td>5</td>\n",
       "      <td>0</td>\n",
       "      <td>3</td>\n",
       "      <td>35.0</td>\n",
       "      <td>0</td>\n",
       "      <td>0</td>\n",
       "      <td>8.0500</td>\n",
       "      <td>1</td>\n",
       "      <td>1</td>\n",
       "    </tr>\n",
       "  </tbody>\n",
       "</table>\n",
       "</div>"
      ],
      "text/plain": [
       "   PassengerId  Survived  Pclass   Age  SibSp  Parch     Fare  SexI  EmbarkedI\n",
       "0            1         0       3  22.0      1      0   7.2500     1          1\n",
       "1            2         1       1  38.0      1      0  71.2833     0          2\n",
       "2            3         1       3  26.0      0      0   7.9250     0          1\n",
       "3            4         1       1  35.0      1      0  53.1000     0          1\n",
       "4            5         0       3  35.0      0      0   8.0500     1          1"
      ]
     },
     "execution_count": 17,
     "metadata": {},
     "output_type": "execute_result"
    }
   ],
   "source": [
    "train.head(5)"
   ]
  },
  {
   "cell_type": "code",
   "execution_count": 18,
   "id": "fe7cff28",
   "metadata": {
    "execution": {
     "iopub.execute_input": "2024-08-28T15:58:49.051234Z",
     "iopub.status.busy": "2024-08-28T15:58:49.050378Z",
     "iopub.status.idle": "2024-08-28T15:58:51.057879Z",
     "shell.execute_reply": "2024-08-28T15:58:51.056780Z"
    },
    "papermill": {
     "duration": 2.018795,
     "end_time": "2024-08-28T15:58:51.060061",
     "exception": false,
     "start_time": "2024-08-28T15:58:49.041266",
     "status": "completed"
    },
    "tags": []
   },
   "outputs": [
    {
     "data": {
      "image/png": "[encoded data removed]",
      "text/plain": [
       "<Figure size 1300x1300 with 2 Axes>"
      ]
     },
     "metadata": {},
     "output_type": "display_data"
    }
   ],
   "source": [
    "import matplotlib.pyplot as plt\n",
    "import seaborn as sns\n",
    "\n",
    "correlationMatrix = train.corr()\n",
    "\n",
    "plt.figure(figsize=(13,13))\n",
    "sns.heatmap(correlationMatrix,annot=True ,cmap='coolwarm')\n",
    "plt.title('Correlation Matrix')\n",
    "plt.show()"
   ]
  },
  {
   "cell_type": "code",
   "execution_count": 19,
   "id": "e3afea8b",
   "metadata": {
    "execution": {
     "iopub.execute_input": "2024-08-28T15:58:51.081019Z",
     "iopub.status.busy": "2024-08-28T15:58:51.080476Z",
     "iopub.status.idle": "2024-08-28T15:58:53.082490Z",
     "shell.execute_reply": "2024-08-28T15:58:53.081479Z"
    },
    "papermill": {
     "duration": 2.015107,
     "end_time": "2024-08-28T15:58:53.084825",
     "exception": false,
     "start_time": "2024-08-28T15:58:51.069718",
     "status": "completed"
    },
    "tags": []
   },
   "outputs": [
    {
     "data": {
      "image/png": "[encoded data removed]",
      "text/plain": [
       "<Figure size 3000x1500 with 8 Axes>"
      ]
     },
     "metadata": {},
     "output_type": "display_data"
    }
   ],
   "source": [
    "vss = ['Pclass', 'Age', 'SibSp', 'Parch', 'Fare', 'SexI', 'EmbarkedI']\n",
    "fig, axs = plt.subplots(2, 4, figsize=(30, 15))\n",
    "\n",
    "for i, column in enumerate(vss):\n",
    "    row = i // 4\n",
    "    col = i % 4\n",
    "    \n",
    "    if column in ['Pclass', 'SexI', 'EmbarkedI']:\n",
    "        # For categorical columns\n",
    "        sns.barplot(x=train[column], y=train['Survived'], ax=axs[row, col], palette='viridis')\n",
    "    else:\n",
    "        # For numerical columns\n",
    "        sns.scatterplot(x=train[column], y=train['Survived'], ax=axs[row, col])\n",
    "    \n",
    "    axs[row, col].set_title(column + \" vs Survived\")\n",
    "    axs[row, col].set_xlabel(column)\n",
    "    axs[row, col].set_ylabel(\"Survived\")\n",
    "\n",
    "plt.tight_layout()\n",
    "plt.show()"
   ]
  },
  {
   "cell_type": "code",
   "execution_count": 20,
   "id": "39cad0b2",
   "metadata": {
    "execution": {
     "iopub.execute_input": "2024-08-28T15:58:53.108400Z",
     "iopub.status.busy": "2024-08-28T15:58:53.108052Z",
     "iopub.status.idle": "2024-08-28T15:58:53.115043Z",
     "shell.execute_reply": "2024-08-28T15:58:53.114106Z"
    },
    "papermill": {
     "duration": 0.02079,
     "end_time": "2024-08-28T15:58:53.116990",
     "exception": false,
     "start_time": "2024-08-28T15:58:53.096200",
     "status": "completed"
    },
    "tags": []
   },
   "outputs": [],
   "source": [
    "rep=test['Fare'].mode()[0]\n",
    "test['Fare'] = test['Fare'].fillna(rep)"
   ]
  },
  {
   "cell_type": "code",
   "execution_count": 21,
   "id": "85223f44",
   "metadata": {
    "execution": {
     "iopub.execute_input": "2024-08-28T15:58:53.139803Z",
     "iopub.status.busy": "2024-08-28T15:58:53.139466Z",
     "iopub.status.idle": "2024-08-28T15:58:53.147156Z",
     "shell.execute_reply": "2024-08-28T15:58:53.146216Z"
    },
    "papermill": {
     "duration": 0.021321,
     "end_time": "2024-08-28T15:58:53.149100",
     "exception": false,
     "start_time": "2024-08-28T15:58:53.127779",
     "status": "completed"
    },
    "tags": []
   },
   "outputs": [
    {
     "data": {
      "text/plain": [
       "PassengerId    0\n",
       "Pclass         0\n",
       "Age            0\n",
       "SibSp          0\n",
       "Parch          0\n",
       "Fare           0\n",
       "SexI           0\n",
       "EmbarkedI      0\n",
       "dtype: int64"
      ]
     },
     "execution_count": 21,
     "metadata": {},
     "output_type": "execute_result"
    }
   ],
   "source": [
    "test.isna().sum()"
   ]
  },
  {
   "cell_type": "code",
   "execution_count": 22,
   "id": "9d30d971",
   "metadata": {
    "execution": {
     "iopub.execute_input": "2024-08-28T15:58:53.172369Z",
     "iopub.status.busy": "2024-08-28T15:58:53.171556Z",
     "iopub.status.idle": "2024-08-28T15:58:53.476528Z",
     "shell.execute_reply": "2024-08-28T15:58:53.475477Z"
    },
    "papermill": {
     "duration": 0.319079,
     "end_time": "2024-08-28T15:58:53.478967",
     "exception": false,
     "start_time": "2024-08-28T15:58:53.159888",
     "status": "completed"
    },
    "tags": []
   },
   "outputs": [],
   "source": [
    "import sklearn\n",
    "from sklearn.model_selection import train_test_split\n",
    "from sklearn.linear_model import LogisticRegression\n",
    "from sklearn import metrics"
   ]
  },
  {
   "cell_type": "code",
   "execution_count": 23,
   "id": "e5038025",
   "metadata": {
    "execution": {
     "iopub.execute_input": "2024-08-28T15:58:53.503249Z",
     "iopub.status.busy": "2024-08-28T15:58:53.502448Z",
     "iopub.status.idle": "2024-08-28T15:58:53.508084Z",
     "shell.execute_reply": "2024-08-28T15:58:53.507271Z"
    },
    "papermill": {
     "duration": 0.019654,
     "end_time": "2024-08-28T15:58:53.510060",
     "exception": false,
     "start_time": "2024-08-28T15:58:53.490406",
     "status": "completed"
    },
    "tags": []
   },
   "outputs": [],
   "source": [
    "X = train.drop(['Survived'], axis=1)  # Features for training\n",
    "y = train['Survived']  # Target for training\n",
    "X_test = test"
   ]
  },
  {
   "cell_type": "code",
   "execution_count": 24,
   "id": "297ecacf",
   "metadata": {
    "execution": {
     "iopub.execute_input": "2024-08-28T15:58:53.533920Z",
     "iopub.status.busy": "2024-08-28T15:58:53.533183Z",
     "iopub.status.idle": "2024-08-28T15:58:53.584925Z",
     "shell.execute_reply": "2024-08-28T15:58:53.583965Z"
    },
    "papermill": {
     "duration": 0.066022,
     "end_time": "2024-08-28T15:58:53.587057",
     "exception": false,
     "start_time": "2024-08-28T15:58:53.521035",
     "status": "completed"
    },
    "tags": []
   },
   "outputs": [
    {
     "data": {
      "text/html": [
       "<style>#sk-container-id-1 {color: black;background-color: white;}#sk-container-id-1 pre{padding: 0;}#sk-container-id-1 div.sk-toggleable {background-color: white;}#sk-container-id-1 label.sk-toggleable__label {cursor: pointer;display: block;width: 100%;margin-bottom: 0;padding: 0.3em;box-sizing: border-box;text-align: center;}#sk-container-id-1 label.sk-toggleable__label-arrow:before {content: \"▸\";float: left;margin-right: 0.25em;color: #696969;}#sk-container-id-1 label.sk-toggleable__label-arrow:hover:before {color: black;}#sk-container-id-1 div.sk-estimator:hover label.sk-toggleable__label-arrow:before {color: black;}#sk-container-id-1 div.sk-toggleable__content {max-height: 0;max-width: 0;overflow: hidden;text-align: left;background-color: #f0f8ff;}#sk-container-id-1 div.sk-toggleable__content pre {margin: 0.2em;color: black;border-radius: 0.25em;background-color: #f0f8ff;}#sk-container-id-1 input.sk-toggleable__control:checked~div.sk-toggleable__content {max-height: 200px;max-width: 100%;overflow: auto;}#sk-container-id-1 input.sk-toggleable__control:checked~label.sk-toggleable__label-arrow:before {content: \"▾\";}#sk-container-id-1 div.sk-estimator input.sk-toggleable__control:checked~label.sk-toggleable__label {background-color: #d4ebff;}#sk-container-id-1 div.sk-label input.sk-toggleable__control:checked~label.sk-toggleable__label {background-color: #d4ebff;}#sk-container-id-1 input.sk-hidden--visually {border: 0;clip: rect(1px 1px 1px 1px);clip: rect(1px, 1px, 1px, 1px);height: 1px;margin: -1px;overflow: hidden;padding: 0;position: absolute;width: 1px;}#sk-container-id-1 div.sk-estimator {font-family: monospace;background-color: #f0f8ff;border: 1px dotted black;border-radius: 0.25em;box-sizing: border-box;margin-bottom: 0.5em;}#sk-container-id-1 div.sk-estimator:hover {background-color: #d4ebff;}#sk-container-id-1 div.sk-parallel-item::after {content: \"\";width: 100%;border-bottom: 1px solid gray;flex-grow: 1;}#sk-container-id-1 div.sk-label:hover label.sk-toggleable__label {background-color: #d4ebff;}#sk-container-id-1 div.sk-serial::before {content: \"\";position: absolute;border-left: 1px solid gray;box-sizing: border-box;top: 0;bottom: 0;left: 50%;z-index: 0;}#sk-container-id-1 div.sk-serial {display: flex;flex-direction: column;align-items: center;background-color: white;padding-right: 0.2em;padding-left: 0.2em;position: relative;}#sk-container-id-1 div.sk-item {position: relative;z-index: 1;}#sk-container-id-1 div.sk-parallel {display: flex;align-items: stretch;justify-content: center;background-color: white;position: relative;}#sk-container-id-1 div.sk-item::before, #sk-container-id-1 div.sk-parallel-item::before {content: \"\";position: absolute;border-left: 1px solid gray;box-sizing: border-box;top: 0;bottom: 0;left: 50%;z-index: -1;}#sk-container-id-1 div.sk-parallel-item {display: flex;flex-direction: column;z-index: 1;position: relative;background-color: white;}#sk-container-id-1 div.sk-parallel-item:first-child::after {align-self: flex-end;width: 50%;}#sk-container-id-1 div.sk-parallel-item:last-child::after {align-self: flex-start;width: 50%;}#sk-container-id-1 div.sk-parallel-item:only-child::after {width: 0;}#sk-container-id-1 div.sk-dashed-wrapped {border: 1px dashed gray;margin: 0 0.4em 0.5em 0.4em;box-sizing: border-box;padding-bottom: 0.4em;background-color: white;}#sk-container-id-1 div.sk-label label {font-family: monospace;font-weight: bold;display: inline-block;line-height: 1.2em;}#sk-container-id-1 div.sk-label-container {text-align: center;}#sk-container-id-1 div.sk-container {/* jupyter's `normalize.less` sets `[hidden] { display: none; }` but bootstrap.min.css set `[hidden] { display: none !important; }` so we also need the `!important` here to be able to override the default hidden behavior on the sphinx rendered scikit-learn.org. See: https://github.com/scikit-learn/scikit-learn/issues/21755 */display: inline-block !important;position: relative;}#sk-container-id-1 div.sk-text-repr-fallback {display: none;}</style><div id=\"sk-container-id-1\" class=\"sk-top-container\"><div class=\"sk-text-repr-fallback\"><pre>LogisticRegression(max_iter=1000)</pre><b>In a Jupyter environment, please rerun this cell to show the HTML representation or trust the notebook. <br />On GitHub, the HTML representation is unable to render, please try loading this page with nbviewer.org.</b></div><div class=\"sk-container\" hidden><div class=\"sk-item\"><div class=\"sk-estimator sk-toggleable\"><input class=\"sk-toggleable__control sk-hidden--visually\" id=\"sk-estimator-id-1\" type=\"checkbox\" checked><label for=\"sk-estimator-id-1\" class=\"sk-toggleable__label sk-toggleable__label-arrow\">LogisticRegression</label><div class=\"sk-toggleable__content\"><pre>LogisticRegression(max_iter=1000)</pre></div></div></div></div></div>"
      ],
      "text/plain": [
       "LogisticRegression(max_iter=1000)"
      ]
     },
     "execution_count": 24,
     "metadata": {},
     "output_type": "execute_result"
    }
   ],
   "source": [
    "X_train_split, X_val_split, y_train_split, y_val_split = train_test_split(X, y, test_size=0.2, random_state=42)\n",
    "model=LogisticRegression(max_iter=1000)\n",
    "model.fit(X_train_split, y_train_split)"
   ]
  },
  {
   "cell_type": "code",
   "execution_count": 25,
   "id": "09a010f8",
   "metadata": {
    "execution": {
     "iopub.execute_input": "2024-08-28T15:58:53.613741Z",
     "iopub.status.busy": "2024-08-28T15:58:53.612851Z",
     "iopub.status.idle": "2024-08-28T15:58:53.622232Z",
     "shell.execute_reply": "2024-08-28T15:58:53.621283Z"
    },
    "papermill": {
     "duration": 0.024881,
     "end_time": "2024-08-28T15:58:53.624346",
     "exception": false,
     "start_time": "2024-08-28T15:58:53.599465",
     "status": "completed"
    },
    "tags": []
   },
   "outputs": [
    {
     "data": {
      "text/plain": [
       "array([0, 0, 0, 0, 1, 0, 1, 0, 1, 0, 0, 0, 1, 0, 1, 1, 0, 0, 1, 1, 0, 0,\n",
       "       1, 1, 1, 0, 1, 0, 0, 0, 0, 0, 1, 1, 1, 0, 1, 1, 0, 0, 0, 0, 0, 1,\n",
       "       1, 0, 0, 0, 1, 1, 0, 0, 1, 1, 0, 0, 0, 0, 0, 1, 0, 0, 0, 1, 1, 1,\n",
       "       1, 0, 1, 1, 1, 0, 1, 1, 1, 1, 0, 1, 0, 1, 0, 0, 0, 0, 0, 0, 1, 1,\n",
       "       1, 0, 1, 0, 1, 0, 1, 0, 1, 0, 1, 0, 1, 0, 0, 0, 1, 0, 0, 0, 0, 0,\n",
       "       0, 1, 1, 1, 1, 0, 0, 1, 1, 1, 1, 0, 1, 0, 0, 1, 0, 1, 0, 0, 0, 0,\n",
       "       1, 0, 0, 0, 0, 0, 1, 0, 0, 1, 0, 0, 0, 0, 1, 0, 0, 0, 1, 0, 0, 1,\n",
       "       0, 0, 1, 1, 0, 1, 1, 0, 1, 0, 0, 1, 0, 0, 1, 1, 0, 0, 0, 0, 0, 1,\n",
       "       1, 0, 1, 1, 0, 0, 1, 0, 1, 0, 1, 0, 0, 0, 0, 0, 0, 0, 0, 0, 1, 1,\n",
       "       0, 1, 1, 0, 1, 1, 0, 1, 1, 0, 1, 0, 0, 0, 0, 1, 0, 0, 1, 0, 1, 0,\n",
       "       1, 0, 1, 0, 1, 1, 0, 1, 0, 0, 0, 1, 0, 0, 0, 0, 0, 0, 1, 1, 1, 1,\n",
       "       0, 0, 0, 0, 1, 0, 1, 1, 1, 0, 1, 0, 0, 0, 0, 0, 1, 0, 0, 0, 1, 1,\n",
       "       0, 0, 0, 0, 1, 0, 1, 0, 1, 1, 0, 1, 0, 0, 0, 0, 1, 0, 1, 1, 1, 0,\n",
       "       0, 1, 0, 0, 1, 1, 0, 0, 0, 0, 1, 0, 1, 0, 0, 0, 0, 0, 1, 1, 0, 0,\n",
       "       0, 0, 0, 0, 0, 1, 1, 1, 0, 0, 0, 0, 0, 0, 0, 0, 1, 0, 1, 1, 0, 0,\n",
       "       1, 1, 0, 1, 0, 1, 0, 0, 0, 0, 0, 0, 0, 1, 0, 1, 0, 1, 0, 1, 1, 0,\n",
       "       0, 0, 1, 0, 1, 0, 0, 1, 0, 1, 1, 0, 1, 0, 0, 1, 1, 0, 0, 1, 0, 0,\n",
       "       1, 1, 1, 0, 0, 0, 0, 0, 1, 1, 0, 1, 0, 0, 0, 0, 1, 1, 0, 0, 0, 1,\n",
       "       0, 1, 0, 0, 1, 0, 1, 1, 0, 0, 0, 0, 1, 1, 1, 1, 1, 0, 1, 0, 0, 0])"
      ]
     },
     "execution_count": 25,
     "metadata": {},
     "output_type": "execute_result"
    }
   ],
   "source": [
    "pred=model.predict(X_test)\n",
    "pred"
   ]
  },
  {
   "cell_type": "code",
   "execution_count": 26,
   "id": "45e17d38",
   "metadata": {
    "execution": {
     "iopub.execute_input": "2024-08-28T15:58:53.649761Z",
     "iopub.status.busy": "2024-08-28T15:58:53.648823Z",
     "iopub.status.idle": "2024-08-28T15:58:53.657930Z",
     "shell.execute_reply": "2024-08-28T15:58:53.656949Z"
    },
    "papermill": {
     "duration": 0.023936,
     "end_time": "2024-08-28T15:58:53.660038",
     "exception": false,
     "start_time": "2024-08-28T15:58:53.636102",
     "status": "completed"
    },
    "tags": []
   },
   "outputs": [],
   "source": [
    "if len(test) == len(pred):\n",
    "    submission = pd.DataFrame({'PassengerId': test['PassengerId'], 'Survived': pred})\n",
    "    submission.to_csv('submission.csv', index=False)\n",
    "else:\n",
    "    print(f\"Length mismatch: test data length = {len(test)}, predictions length = {len(pred)}\")"
   ]
  },
  {
   "cell_type": "code",
   "execution_count": 27,
   "id": "ea85bc51",
   "metadata": {
    "execution": {
     "iopub.execute_input": "2024-08-28T15:58:53.684995Z",
     "iopub.status.busy": "2024-08-28T15:58:53.684194Z",
     "iopub.status.idle": "2024-08-28T15:58:53.694801Z",
     "shell.execute_reply": "2024-08-28T15:58:53.693762Z"
    },
    "papermill": {
     "duration": 0.025106,
     "end_time": "2024-08-28T15:58:53.696806",
     "exception": false,
     "start_time": "2024-08-28T15:58:53.671700",
     "status": "completed"
    },
    "tags": []
   },
   "outputs": [
    {
     "data": {
      "text/html": [
       "<div>\n",
       "<style scoped>\n",
       "    .dataframe tbody tr th:only-of-type {\n",
       "        vertical-align: middle;\n",
       "    }\n",
       "\n",
       "    .dataframe tbody tr th {\n",
       "        vertical-align: top;\n",
       "    }\n",
       "\n",
       "    .dataframe thead th {\n",
       "        text-align: right;\n",
       "    }\n",
       "</style>\n",
       "<table border=\"1\" class=\"dataframe\">\n",
       "  <thead>\n",
       "    <tr style=\"text-align: right;\">\n",
       "      <th></th>\n",
       "      <th>PassengerId</th>\n",
       "      <th>Survived</th>\n",
       "    </tr>\n",
       "  </thead>\n",
       "  <tbody>\n",
       "    <tr>\n",
       "      <th>0</th>\n",
       "      <td>892</td>\n",
       "      <td>0</td>\n",
       "    </tr>\n",
       "    <tr>\n",
       "      <th>1</th>\n",
       "      <td>893</td>\n",
       "      <td>0</td>\n",
       "    </tr>\n",
       "    <tr>\n",
       "      <th>2</th>\n",
       "      <td>894</td>\n",
       "      <td>0</td>\n",
       "    </tr>\n",
       "    <tr>\n",
       "      <th>3</th>\n",
       "      <td>895</td>\n",
       "      <td>0</td>\n",
       "    </tr>\n",
       "    <tr>\n",
       "      <th>4</th>\n",
       "      <td>896</td>\n",
       "      <td>1</td>\n",
       "    </tr>\n",
       "    <tr>\n",
       "      <th>...</th>\n",
       "      <td>...</td>\n",
       "      <td>...</td>\n",
       "    </tr>\n",
       "    <tr>\n",
       "      <th>413</th>\n",
       "      <td>1305</td>\n",
       "      <td>0</td>\n",
       "    </tr>\n",
       "    <tr>\n",
       "      <th>414</th>\n",
       "      <td>1306</td>\n",
       "      <td>1</td>\n",
       "    </tr>\n",
       "    <tr>\n",
       "      <th>415</th>\n",
       "      <td>1307</td>\n",
       "      <td>0</td>\n",
       "    </tr>\n",
       "    <tr>\n",
       "      <th>416</th>\n",
       "      <td>1308</td>\n",
       "      <td>0</td>\n",
       "    </tr>\n",
       "    <tr>\n",
       "      <th>417</th>\n",
       "      <td>1309</td>\n",
       "      <td>0</td>\n",
       "    </tr>\n",
       "  </tbody>\n",
       "</table>\n",
       "<p>418 rows × 2 columns</p>\n",
       "</div>"
      ],
      "text/plain": [
       "     PassengerId  Survived\n",
       "0            892         0\n",
       "1            893         0\n",
       "2            894         0\n",
       "3            895         0\n",
       "4            896         1\n",
       "..           ...       ...\n",
       "413         1305         0\n",
       "414         1306         1\n",
       "415         1307         0\n",
       "416         1308         0\n",
       "417         1309         0\n",
       "\n",
       "[418 rows x 2 columns]"
      ]
     },
     "execution_count": 27,
     "metadata": {},
     "output_type": "execute_result"
    }
   ],
   "source": [
    "submission"
   ]
  },
  {
   "cell_type": "code",
   "execution_count": 28,
   "id": "1c1c4f02",
   "metadata": {
    "execution": {
     "iopub.execute_input": "2024-08-28T15:58:53.722233Z",
     "iopub.status.busy": "2024-08-28T15:58:53.721568Z",
     "iopub.status.idle": "2024-08-28T15:58:53.730507Z",
     "shell.execute_reply": "2024-08-28T15:58:53.729579Z"
    },
    "papermill": {
     "duration": 0.023432,
     "end_time": "2024-08-28T15:58:53.732486",
     "exception": false,
     "start_time": "2024-08-28T15:58:53.709054",
     "status": "completed"
    },
    "tags": []
   },
   "outputs": [
    {
     "data": {
      "text/plain": [
       "array([0, 0, 0, 1, 1, 1, 1, 0, 1, 1, 0, 0, 0, 0, 0, 1, 0, 1, 0, 0, 0, 0,\n",
       "       1, 0, 0, 0, 0, 0, 0, 1, 0, 1, 1, 1, 0, 0, 0, 1, 1, 0, 0, 0, 0, 0,\n",
       "       1, 0, 0, 0, 0, 0, 1, 1, 0, 1, 0, 1, 0, 1, 1, 1, 0, 1, 1, 0, 0, 1,\n",
       "       0, 0, 0, 1, 1, 1, 1, 1, 0, 0, 1, 1, 1, 0, 0, 1, 1, 0, 0, 0, 1, 1,\n",
       "       0, 0, 0, 0, 0, 0, 0, 0, 0, 0, 1, 0, 0, 0, 1, 0, 0, 0, 1, 0, 0, 0,\n",
       "       1, 0, 1, 0, 1, 0, 0, 0, 1, 0, 0, 1, 1, 0, 0, 1, 1, 1, 1, 0, 1, 0,\n",
       "       0, 1, 0, 1, 1, 0, 0, 1, 0, 1, 0, 0, 1, 1, 0, 0, 1, 0, 0, 0, 0, 1,\n",
       "       0, 0, 0, 1, 1, 1, 0, 0, 0, 1, 0, 0, 0, 1, 0, 0, 1, 1, 0, 1, 0, 0,\n",
       "       0, 1, 1])"
      ]
     },
     "execution_count": 28,
     "metadata": {},
     "output_type": "execute_result"
    }
   ],
   "source": [
    "y_val_pred = model.predict(X_val_split)\n",
    "y_val_pred"
   ]
  },
  {
   "cell_type": "code",
   "execution_count": 29,
   "id": "b09c76bb",
   "metadata": {
    "execution": {
     "iopub.execute_input": "2024-08-28T15:58:53.758039Z",
     "iopub.status.busy": "2024-08-28T15:58:53.757251Z",
     "iopub.status.idle": "2024-08-28T15:58:53.778846Z",
     "shell.execute_reply": "2024-08-28T15:58:53.777442Z"
    },
    "papermill": {
     "duration": 0.036522,
     "end_time": "2024-08-28T15:58:53.780924",
     "exception": false,
     "start_time": "2024-08-28T15:58:53.744402",
     "status": "completed"
    },
    "tags": []
   },
   "outputs": [
    {
     "name": "stdout",
     "output_type": "stream",
     "text": [
      "Validation Accuracy: 0.80\n",
      "              precision    recall  f1-score   support\n",
      "\n",
      "           0       0.82      0.85      0.84       105\n",
      "           1       0.77      0.74      0.76        74\n",
      "\n",
      "    accuracy                           0.80       179\n",
      "   macro avg       0.80      0.80      0.80       179\n",
      "weighted avg       0.80      0.80      0.80       179\n",
      "\n",
      "ROC-AUC Score: 0.88\n"
     ]
    }
   ],
   "source": [
    "from sklearn.metrics import accuracy_score, classification_report, roc_auc_score\n",
    "\n",
    "accuracy = accuracy_score(y_val_split, y_val_pred)\n",
    "print(f'Validation Accuracy: {accuracy:.2f}')\n",
    "\n",
    "print(classification_report(y_val_split, y_val_pred))\n",
    "\n",
    "# ROC-AUC score\n",
    "roc_auc = roc_auc_score(y_val_split, model.predict_proba(X_val_split)[:, 1])\n",
    "print(f'ROC-AUC Score: {roc_auc:.2f}')"
   ]
  },
  {
   "cell_type": "code",
   "execution_count": null,
   "id": "6d5b694e",
   "metadata": {
    "papermill": {
     "duration": 0.011824,
     "end_time": "2024-08-28T15:58:53.805066",
     "exception": false,
     "start_time": "2024-08-28T15:58:53.793242",
     "status": "completed"
    },
    "tags": []
   },
   "outputs": [],
   "source": []
  },
  {
   "cell_type": "code",
   "execution_count": null,
   "id": "5908e8c4",
   "metadata": {
    "papermill": {
     "duration": 0.013099,
     "end_time": "2024-08-28T15:58:53.830276",
     "exception": false,
     "start_time": "2024-08-28T15:58:53.817177",
     "status": "completed"
    },
    "tags": []
   },
   "outputs": [],
   "source": []
  },
  {
   "cell_type": "code",
   "execution_count": null,
   "id": "fd86a4c9",
   "metadata": {
    "papermill": {
     "duration": 0.011769,
     "end_time": "2024-08-28T15:58:53.854315",
     "exception": false,
     "start_time": "2024-08-28T15:58:53.842546",
     "status": "completed"
    },
    "tags": []
   },
   "outputs": [],
   "source": []
  }
 ],
 "metadata": {
  "kaggle": {
   "accelerator": "none",
   "dataSources": [
    {
     "databundleVersionId": 26502,
     "sourceId": 3136,
     "sourceType": "competition"
    }
   ],
   "dockerImageVersionId": 30761,
   "isGpuEnabled": false,
   "isInternetEnabled": true,
   "language": "python",
   "sourceType": "notebook"
  },
  "kernelspec": {
   "display_name": "Python 3",
   "language": "python",
   "name": "python3"
  },
  "language_info": {
   "codemirror_mode": {
    "name": "ipython",
    "version": 3
   },
   "file_extension": ".py",
   "mimetype": "text/x-python",
   "name": "python",
   "nbconvert_exporter": "python",
   "pygments_lexer": "ipython3",
   "version": "3.10.14"
  },
  "papermill": {
   "default_parameters": {},
   "duration": 8.822963,
   "end_time": "2024-08-28T15:58:54.486806",
   "environment_variables": {},
   "exception": null,
   "input_path": "__notebook__.ipynb",
   "output_path": "__notebook__.ipynb",
   "parameters": {},
   "start_time": "2024-08-28T15:58:45.663843",
   "version": "2.6.0"
  }
 },
 "nbformat": 4,
 "nbformat_minor": 5
}
